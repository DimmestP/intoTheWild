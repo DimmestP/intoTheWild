{
 "cells": [
  {
   "cell_type": "markdown",
   "metadata": {},
   "source": [
    "Initial stages of using jupyter as my notebook\n",
    "Answering the questions of what I know and why!"
   ]
  },
  {
   "cell_type": "code",
   "execution_count": null,
   "metadata": {},
   "outputs": [
    {
     "name": "stderr",
     "output_type": "stream",
     "text": [
      "also installing the dependencies ‘lattice’, ‘colorspace’, ‘assertthat’, ‘fansi’, ‘utf8’, ‘nlme’, ‘Matrix’, ‘labeling’, ‘munsell’, ‘R6’, ‘RColorBrewer’, ‘cli’, ‘pillar’, ‘gtable’, ‘lazyeval’, ‘MASS’, ‘mgcv’, ‘plyr’, ‘reshape2’, ‘rlang’, ‘scales’, ‘tibble’, ‘viridisLite’, ‘withr’\n",
      "\n"
     ]
    }
   ],
   "source": [
    "install.packages('ggplot2')"
   ]
  },
  {
   "cell_type": "code",
   "execution_count": 13,
   "metadata": {},
   "outputs": [
    {
     "ename": "ERROR",
     "evalue": "Error in library(ggplot2): there is no package called ‘ggplot2’\n",
     "output_type": "error",
     "traceback": [
      "Error in library(ggplot2): there is no package called ‘ggplot2’\nTraceback:\n",
      "1. library(ggplot2)",
      "2. stop(txt, domain = NA)"
     ]
    }
   ],
   "source": [
    "library(ggplot2)\n",
    "x <- rnorm(1000,1,1)\n",
    "y <- rnorm(1000,1,1)\n",
    "sf_1 <- data.frame(x=x,y=y)\n",
    "options(repr.plot.width=4, repr.plot.height=3)\n",
    "ggplot(df_1, aes(x = x, y = y)) + geom_point(size = 0.3) + \n",
    "   theme(text = element_text(size = 3), element_line(size = 0.1))\n",
    "hist(x)\n",
    "hist(y)"
   ]
  },
  {
   "cell_type": "code",
   "execution_count": null,
   "metadata": {},
   "outputs": [],
   "source": []
  }
 ],
 "metadata": {
  "kernelspec": {
   "display_name": "R",
   "language": "R",
   "name": "ir"
  },
  "language_info": {
   "codemirror_mode": "r",
   "file_extension": ".r",
   "mimetype": "text/x-r-source",
   "name": "R",
   "pygments_lexer": "r",
   "version": "3.5.1"
  }
 },
 "nbformat": 4,
 "nbformat_minor": 2
}
